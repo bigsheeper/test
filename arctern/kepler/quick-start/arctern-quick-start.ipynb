{
 "cells": [
  {
   "cell_type": "code",
   "execution_count": 4,
   "metadata": {
    "scrolled": false
   },
   "outputs": [
    {
     "name": "stdout",
     "output_type": "stream",
     "text": [
      "User Guide: https://docs.kepler.gl/docs/keplergl-jupyter\n"
     ]
    },
    {
     "data": {
      "application/vnd.jupyter.widget-view+json": {
       "model_id": "93ae0855056e41cd91b8a830a63a01b3",
       "version_major": 2,
       "version_minor": 0
      },
      "text/plain": [
       "KeplerGl(config={'version': 'v1', 'config': {'visState': {'filters': [], 'layers': [{'id': '4fxwsdg', 'type': …"
      ]
     },
     "metadata": {},
     "output_type": "display_data"
    }
   ],
   "source": [
    "import pandas as pd\n",
    "import arctern\n",
    "\n",
    "road1 = 'LINESTRING (-73.996324 40.753388, -73.972088 40.743215)'\n",
    "road2 = 'LINESTRING (-73.989555 40.741531, -73.973952 40.762962)'\n",
    "\n",
    "# 使用 arctern.ST_Intersection 找到帝国大厦附近的十字路口，即道路 1 与道路 2 相交的位置。\n",
    "rst = arctern.ST_Intersection(arctern.ST_GeomFromText(road1), arctern.ST_GeomFromText(road2))\n",
    "empire_state_building = arctern.ST_AsText(rst[0])[0]\n",
    "\n",
    "d = {'geos': [road1, road2, empire_state_building]}\n",
    "df = pd.DataFrame(data=d)\n",
    "\n",
    "# 使用 wget <TODO: add config download url> 下载 kepler 配置文件\n",
    "# 将 file_path 变量修改为下载的配置文件所在的绝对路径\n",
    "file_path = </path/to/conf.json>\"\n",
    "\n",
    "from keplergl import KeplerGl\n",
    "import json\n",
    "with open(file_path) as f:\n",
    "    config = json.load(f)\n",
    "\n",
    "# 使用 keplergl 绘制地图\n",
    "map_1 = KeplerGl(height=600, data={\"data_1\": df}, config=config)\n",
    "map_1"
   ]
  },
  {
   "cell_type": "code",
   "execution_count": null,
   "metadata": {},
   "outputs": [],
   "source": []
  }
 ],
 "metadata": {
  "kernelspec": {
   "display_name": "Python 3",
   "language": "python",
   "name": "python3"
  },
  "language_info": {
   "codemirror_mode": {
    "name": "ipython",
    "version": 3
   },
   "file_extension": ".py",
   "mimetype": "text/x-python",
   "name": "python",
   "nbconvert_exporter": "python",
   "pygments_lexer": "ipython3",
   "version": "3.7.6"
  }
 },
 "nbformat": 4,
 "nbformat_minor": 4
}
