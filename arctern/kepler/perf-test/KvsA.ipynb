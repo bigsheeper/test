{
 "cells": [
  {
   "cell_type": "code",
   "execution_count": 1,
   "metadata": {},
   "outputs": [],
   "source": [
    "file_path = '/tmp/jupyter_kepler.txt'"
   ]
  },
  {
   "cell_type": "markdown",
   "metadata": {},
   "source": [
    "### Delete old result file."
   ]
  },
  {
   "cell_type": "code",
   "execution_count": 2,
   "metadata": {},
   "outputs": [],
   "source": [
    "# import os\n",
    "# if os.path.exists(file_path):\n",
    "#     os.remove(file_path)"
   ]
  },
  {
   "cell_type": "markdown",
   "metadata": {},
   "source": [
    "### Define load data functions."
   ]
  },
  {
   "cell_type": "code",
   "execution_count": 1,
   "metadata": {},
   "outputs": [],
   "source": [
    "def data_handler():\n",
    "    import pandas as pd\n",
    "    import numpy as np\n",
    "\n",
    "    print(\"loading data...\")\n",
    "    csv_data_type = {'car_id':np.float64, 'car_type':np.object, 'longitude':np.float64, 'latitude':np.float64, 'gps_time':np.object, 'gps_speed':np.float64, 'direction':np.float64, 'event':np.float64, 'alarm':np.object, 'gps_longitude':np.float64, 'gps_latitude':np.float64, 'altitude':np.float64, 'car_speed':np.float64, 'mileage':np.float64, 'error_type':np.float64, 'operation_code':np.float64, 'system_time':np.object}\n",
    "    df = pd.read_csv(\"/tmp/sz_2800w.csv\", dtype=csv_data_type, delimiter=':', header=None)\n",
    "    print(df)\n",
    "\n",
    "    print(\"create new csv\")\n",
    "    long = df[2]\n",
    "    lati = df[3]\n",
    "    new_df = pd.DataFrame({\"longitude\":long, \"latitude\":lati})\n",
    "    new_df.to_csv('/tmp/sz_simple_2800w.csv', index=False)\n",
    "    print(\"Done\")\n",
    "\n",
    "\n",
    "def load_data(num_rows):\n",
    "    import pandas as pd\n",
    "    import numpy as np\n",
    "\n",
    "    print(\"loading data, num rows = %d\" % num_rows)\n",
    "    df = pd.read_csv(\"/tmp/sz_simple_2800w.csv\", delimiter=',', header=0)\n",
    "    df = df.head(num_rows)\n",
    "    return df\n",
    "\n",
    "def save_result(kepler_time, arctern_time):\n",
    "    res_file = open(file_path, \"a\")\n",
    "    res_str = str(\"%s,%s\\n\" % (kepler_time, arctern_time))\n",
    "    print(res_str)\n",
    "    res_file.write(res_str)\n",
    "    res_file.close()"
   ]
  },
  {
   "cell_type": "markdown",
   "metadata": {},
   "source": [
    "### Start from here. Start run test."
   ]
  },
  {
   "cell_type": "code",
   "execution_count": 2,
   "metadata": {
    "scrolled": false
   },
   "outputs": [
    {
     "name": "stdout",
     "output_type": "stream",
     "text": [
      "loading data, num rows = 10\n"
     ]
    }
   ],
   "source": [
    "# num_rows = 1000000 * 4\n",
    "num_rows = 10\n",
    "df = load_data(num_rows)"
   ]
  },
  {
   "cell_type": "code",
   "execution_count": 3,
   "metadata": {},
   "outputs": [],
   "source": [
    "# # Run arctern\n",
    "# import time\n",
    "# from arctern import point_map_layer, ST_Point\n",
    "# from arctern.util import save_png\n",
    "# from arctern.util.vega import vega_pointmap\n",
    "\n",
    "# import sys, os\n",
    "# os.environ[\"GDAL_DATA\"] = sys.prefix + \"/share/gdal\"\n",
    "# os.environ[\"PROJ_LIB\"] = sys.prefix + \"/share/proj\"\n",
    "\n",
    "# vega = vega_pointmap(600, 400, bounding_box=[112.10735,22.093627,115.386668,23.547547], point_size=3, point_color=\"#2DEF4A\", opacity=1, coordinate_system=\"EPSG:4326\")\n",
    "\n",
    "# print(\"arctern start drawing, num rows = %d\" % num_rows)\n",
    "\n",
    "# start_time = time.time()\n",
    "# png = point_map_layer(vega, ST_Point(df.longitude, df.latitude))\n",
    "# arctern_time = time.time() - start_time\n",
    "# print(\"--- %s seconds ---\" % arctern_time)\n",
    "# save_png(png, '/tmp/arctern_pointmap_pandas.png')"
   ]
  },
  {
   "cell_type": "code",
   "execution_count": 4,
   "metadata": {
    "scrolled": true
   },
   "outputs": [
    {
     "name": "stdout",
     "output_type": "stream",
     "text": [
      "kepler start drawing, num rows = 10\n",
      "User Guide: https://docs.kepler.gl/docs/keplergl-jupyter\n",
      "--- 0.0028929710388183594 seconds ---\n",
      "BEGIN****************\n"
     ]
    },
    {
     "data": {
      "application/vnd.jupyter.widget-view+json": {
       "model_id": "c26bd9261c6f4d10afcd44d901d6562a",
       "version_major": 2,
       "version_minor": 0
      },
      "text/plain": [
       "KeplerGl(config={'version': 'v1', 'config': {'visState': {'filters': [], 'layers': [{'id': '0s0oq8a', 'type': …"
      ]
     },
     "metadata": {},
     "output_type": "display_data"
    }
   ],
   "source": [
    "# Run kepler\n",
    "from keplergl import KeplerGl\n",
    "import time, json\n",
    "\n",
    "conf_path = \"/tmp/conf.json\"\n",
    "with open(conf_path) as f:\n",
    "    config = json.load(f)\n",
    "\n",
    "print(\"kepler start drawing, num rows = %d\" % num_rows)\n",
    "\n",
    "# KeplerGl.old_ipython_display_ = KeplerGl._ipython_display_\n",
    "# KeplerGl._ipython_display_ = newf\n",
    "\n",
    "start_time = time.time()\n",
    "map_1 = KeplerGl(height=400, data={\"data_1\": df}, config=config)\n",
    "# KeplerGl.__str__ = lambda *args: \"SB\"\n",
    "\n",
    "kepler_time1 = time.time() - start_time\n",
    "print(\"--- %s seconds ---\" % kepler_time1)\n",
    "\n",
    "print(\"BEGIN****************\")\n",
    "# cb = lambda *args : print(\"HEHE\")\n",
    "# map_1.on_displayed(cb)\n",
    "\n",
    "# def newf(self):\n",
    "#     print(\"SB\")\n",
    "#     self.old_ipython_display_()\n",
    "    \n",
    "# map_1\n",
    "# map_1._ipython_display_()\n",
    "\n",
    "# newf = lambda *args : self._ipython_display()\n",
    "# dir(map_1)\n",
    "# map_1.data\n",
    "# import traceback\n",
    "# traceback.print_stack()\n",
    "map_1"
   ]
  },
  {
   "cell_type": "code",
   "execution_count": 7,
   "metadata": {},
   "outputs": [],
   "source": [
    "# kepler_time = time.time() - start_time\n",
    "# print(\"--- %s seconds ---\" % kepler_time)"
   ]
  },
  {
   "cell_type": "code",
   "execution_count": 8,
   "metadata": {
    "scrolled": false
   },
   "outputs": [
    {
     "name": "stdout",
     "output_type": "stream",
     "text": [
      "num rows = 7000000\n",
      "51.344610929489136,0\n",
      "\n"
     ]
    }
   ],
   "source": [
    "# save result 7\n",
    "print(\"num rows = %d\" % num_rows)\n",
    "save_result(kepler_time=kepler_time1, arctern_time=0)"
   ]
  },
  {
   "cell_type": "code",
   "execution_count": null,
   "metadata": {},
   "outputs": [],
   "source": []
  },
  {
   "cell_type": "code",
   "execution_count": null,
   "metadata": {},
   "outputs": [],
   "source": []
  },
  {
   "cell_type": "code",
   "execution_count": null,
   "metadata": {},
   "outputs": [],
   "source": []
  },
  {
   "cell_type": "code",
   "execution_count": null,
   "metadata": {},
   "outputs": [],
   "source": []
  },
  {
   "cell_type": "code",
   "execution_count": null,
   "metadata": {},
   "outputs": [],
   "source": []
  },
  {
   "cell_type": "code",
   "execution_count": null,
   "metadata": {},
   "outputs": [],
   "source": []
  },
  {
   "cell_type": "code",
   "execution_count": null,
   "metadata": {},
   "outputs": [],
   "source": []
  }
 ],
 "metadata": {
  "kernelspec": {
   "display_name": "Python 3",
   "language": "python",
   "name": "python3"
  },
  "language_info": {
   "codemirror_mode": {
    "name": "ipython",
    "version": 3
   },
   "file_extension": ".py",
   "mimetype": "text/x-python",
   "name": "python",
   "nbconvert_exporter": "python",
   "pygments_lexer": "ipython3",
   "version": "3.8.2"
  }
 },
 "nbformat": 4,
 "nbformat_minor": 4
}
